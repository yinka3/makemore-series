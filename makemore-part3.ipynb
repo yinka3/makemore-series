{
 "cells": [
  {
   "cell_type": "code",
   "execution_count": 1,
   "id": "106a696b-5d38-4a2d-9642-54ecea65ec9f",
   "metadata": {},
   "outputs": [],
   "source": [
    "import torch\n",
    "import torch.nn.functional as F\n",
    "import matplotlib.pyplot as plt # for making figures\n",
    "%matplotlib inline"
   ]
  },
  {
   "cell_type": "code",
   "execution_count": 1,
   "id": "d97da2c4-3110-4663-9a43-d7d818f8c5bc",
   "metadata": {},
   "outputs": [],
   "source": [
    "# read in all the words\n",
    "words = open('names.txt', 'r').read().splitlines()"
   ]
  },
  {
   "cell_type": "code",
   "execution_count": 3,
   "id": "597d3b76-c6ea-4b1c-989b-11e84ebdd58f",
   "metadata": {},
   "outputs": [],
   "source": [
    "# build the vocabulary of characters and mappings to/from integers\n",
    "chars = sorted(list(set(''.join(words))))\n",
    "stoi = {s:i+1 for i,s in enumerate(chars)}\n",
    "stoi['.'] = 0\n",
    "itos = {i:s for s,i in stoi.items()}\n",
    "vocab_size = len(itos)"
   ]
  },
  {
   "cell_type": "code",
   "execution_count": 4,
   "id": "6e65fa59-97a9-4b17-8e03-ab75e124166c",
   "metadata": {},
   "outputs": [
    {
     "name": "stdout",
     "output_type": "stream",
     "text": [
      "torch.Size([182625, 3]) torch.Size([182625])\n",
      "torch.Size([22655, 3]) torch.Size([22655])\n",
      "torch.Size([22866, 3]) torch.Size([22866])\n"
     ]
    }
   ],
   "source": [
    "# build the dataset\n",
    "block_size = 3 # context length: how many characters do we take to predict the next one?\n",
    "\n",
    "def build_dataset(words):  \n",
    "  X, Y = [], []\n",
    "  \n",
    "  for w in words:\n",
    "    context = [0] * block_size\n",
    "    for ch in w + '.':\n",
    "      ix = stoi[ch]\n",
    "      X.append(context)\n",
    "      Y.append(ix)\n",
    "      context = context[1:] + [ix] # crop and append\n",
    "\n",
    "  X = torch.tensor(X)\n",
    "  Y = torch.tensor(Y)\n",
    "  print(X.shape, Y.shape)\n",
    "  return X, Y\n",
    "\n",
    "import random\n",
    "random.seed(42)\n",
    "random.shuffle(words)\n",
    "n1 = int(0.8*len(words))\n",
    "n2 = int(0.9*len(words))\n",
    "\n",
    "Xtr,  Ytr  = build_dataset(words[:n1])     # 80%\n",
    "Xdev, Ydev = build_dataset(words[n1:n2])   # 10%\n",
    "Xte,  Yte  = build_dataset(words[n2:])     # 10%\n"
   ]
  },
  {
   "cell_type": "code",
   "execution_count": 9,
   "id": "690daf94-91fe-44f3-a2b0-8bc87402cb19",
   "metadata": {},
   "outputs": [
    {
     "name": "stdout",
     "output_type": "stream",
     "text": [
      "12097\n"
     ]
    }
   ],
   "source": [
    "n_embd = 10 # the dimensionality of the character embedding vectors\n",
    "n_hidden = 200 # the number of neurons in the hidden layer of the MLP\n",
    "\n",
    "g = torch.Generator().manual_seed(2147483647) # for reproducibility\n",
    "C  = torch.randn((vocab_size, n_embd),            generator=g)\n",
    "W1 = torch.randn((n_embd * block_size, n_hidden), generator=g) * (5/3) / ((n_embd * block_size) **0.5)\n",
    "#b1 = torch.randn(n_hidden,                        generator=g) * 0.01\n",
    "W2 = torch.randn((n_hidden, vocab_size),          generator=g) * 0.01\n",
    "b2 = torch.randn(vocab_size,                      generator=g) * 0.01\n",
    "gain = torch.ones((1, n_hidden))\n",
    "bias = torch.ones((1, n_hidden))\n",
    "batch_mean_running = torch.zeros((1, n_hidden))\n",
    "batch_std_running = torch.zeros((1, n_hidden))\n",
    "\n",
    "parameters = [C, W1, W2, b2, gain, bias]\n",
    "print(sum(p.nelement() for p in parameters)) # number of parameters in total\n",
    "for p in parameters:\n",
    "  p.requires_grad = True "
   ]
  },
  {
   "cell_type": "code",
   "execution_count": 10,
   "id": "c7d1d796-e058-48ff-af33-95bf95a586fa",
   "metadata": {},
   "outputs": [
    {
     "name": "stdout",
     "output_type": "stream",
     "text": [
      "      0/ 200000: 3.3053\n",
      "  10000/ 200000: 1.9817\n",
      "  20000/ 200000: 2.6418\n",
      "  30000/ 200000: 2.0010\n",
      "  40000/ 200000: 2.3118\n",
      "  50000/ 200000: 1.8986\n",
      "  60000/ 200000: 2.0527\n",
      "  70000/ 200000: 2.3328\n",
      "  80000/ 200000: 2.4095\n",
      "  90000/ 200000: 2.2383\n",
      " 100000/ 200000: 2.2589\n",
      " 110000/ 200000: 2.2823\n",
      " 120000/ 200000: 1.6924\n",
      " 130000/ 200000: 1.9833\n",
      " 140000/ 200000: 2.2004\n",
      " 150000/ 200000: 2.0062\n",
      " 160000/ 200000: 1.9517\n",
      " 170000/ 200000: 2.4099\n",
      " 180000/ 200000: 2.1579\n",
      " 190000/ 200000: 2.2084\n"
     ]
    }
   ],
   "source": [
    "max_steps = 200000\n",
    "batch_size = 32\n",
    "lossi = []\n",
    "\n",
    "for i in range(max_steps):\n",
    "  \n",
    "  ix = torch.randint(0, Xtr.shape[0], (batch_size, ), generator=g)\n",
    "  emb = C[Xtr[ix]]\n",
    "  pre_activation = emb.view(emb.shape[0], -1) @ W1 # + b1 not needed since we have a running batch bias\n",
    "    \n",
    "  batch_meani = pre_activation.mean(0, keepdim=True)\n",
    "  batch_stdi = pre_activation.std(0, keepdim=True)\n",
    "  pre_activation = gain * (pre_activation - batch_meani) / batch_stdi + bias\n",
    "  with torch.no_grad():\n",
    "    batch_mean_running = 0.999 * batch_mean_running + 0.001 * batch_meani\n",
    "    batch_std_runnning = 0.999 * batch_std_running + 0.001 * batch_stdi\n",
    "      \n",
    "  h = torch.tanh(pre_activation)\n",
    "  logits = h @ W2 + b2\n",
    "  loss = F.cross_entropy(logits, Ytr[ix])\n",
    "  \n",
    "  # backward pass\n",
    "  for p in parameters:\n",
    "    p.grad = None\n",
    "  loss.backward()\n",
    "  \n",
    "  # update\n",
    "  lr = 0.1 if i < 100000 else 0.01 # step learning rate decay\n",
    "  for p in parameters:\n",
    "    p.data += -lr * p.grad\n",
    "\n",
    "  # track stats\n",
    "  if i % 10000 == 0: # print every once in a while\n",
    "    print(f'{i:7d}/{max_steps:7d}: {loss.item():.4f}')\n",
    "  lossi.append(loss.log10().item())\n"
   ]
  },
  {
   "cell_type": "code",
   "execution_count": 11,
   "id": "55a90ca2-b596-42fe-9ec9-45558de50b41",
   "metadata": {},
   "outputs": [
    {
     "name": "stdout",
     "output_type": "stream",
     "text": [
      "train 3.522601366043091\n",
      "val 3.5618789196014404\n"
     ]
    }
   ],
   "source": [
    "@torch.no_grad() # this decorator disables gradient tracking\n",
    "def split_loss(split):\n",
    "  x,y = {\n",
    "    'train': (Xtr, Ytr),\n",
    "    'val': (Xdev, Ydev),\n",
    "    'test': (Xte, Yte),\n",
    "  }[split]\n",
    "  emb = C[x]\n",
    "  pre_activation = emb.view(emb.shape[0], -1) @ W1 # + b1 not needed since we have a running batch bias \n",
    "  pre_activation = gain * (pre_activation - batch_mean_running) / batch_std_running + bias\n",
    "  h = torch.tanh(pre_activation)\n",
    "  logits = h @ W2 + b2\n",
    "  loss = F.cross_entropy(logits, y)\n",
    "  print(split, loss.item())\n",
    "\n",
    "split_loss(\"train\")\n",
    "split_loss(\"val\")"
   ]
  },
  {
   "cell_type": "code",
   "execution_count": 12,
   "id": "dffed371-59f5-4d6c-9b01-b63ea1195ffd",
   "metadata": {},
   "outputs": [],
   "source": [
    "#--Pytorchify--"
   ]
  },
  {
   "cell_type": "code",
   "execution_count": 3,
   "id": "137c79c9-4a43-416b-a5a0-3b7eabc2f4ab",
   "metadata": {},
   "outputs": [],
   "source": [
    "class Linear:\n",
    "    def __init__(self, fan_in, fan_out, g, bias=True):\n",
    "    self.weight = torch.randn((fan_in, fan_out), generator=g) / fan_in**0.5\n",
    "    self.bias = torch.zeros(fan_out) if bias else None\n",
    "\n",
    "    def __call__(self, x):\n",
    "        self.out = x @ self.weight\n",
    "        if self.bias is not None:\n",
    "            self.out += self.bias\n",
    "        return self.out\n",
    "\n",
    "    def parameters(self):\n",
    "        return [self.weight] + [self.bias if self.bias else []]\n",
    "\n",
    "class BatchNorm1D:\n",
    "    def __init__(self, dim, eps=1e-5, momentum=0.1):\n",
    "        self.eps = eps\n",
    "        self.momentum = momentum\n",
    "        self.training = True\n",
    "        self.gamma = torch.ones(dim)\n",
    "        self.beta = torch.ones(dim)\n",
    "        self.running_mean = torch.zeros(dim)\n",
    "        self.running_var = torch.ones(dim)\n",
    "\n",
    "    def __call__(self, x):\n",
    "\n",
    "        if self.training:\n",
    "            xmean = x.mean(0, keepdim=True)\n",
    "            xvar = x.var(0, keepdim=True)\n",
    "        else:\n",
    "            xmean = self.running_mean\n",
    "            xvar = self.running_var\n",
    "        xhat = (x - xmean) / torch.sqrt(xvar + self.eps)\n",
    "        self.out = self.gamma * xhar + self.beta\n",
    "\n",
    "        if self.training:\n",
    "            with torch.no_grad():\n",
    "                self.running_mean = (1 - self.momentum) * self.running_mean + self.momentum * xmean\n",
    "                self.running_var = (1 - self.momentum) * self.running_var + self.momentum * xvar\n",
    "        return self.out\n",
    "\n",
    "class Tanh:\n",
    "    def __call__(self, x):\n",
    "        self.out = torch.tanh(x)\n",
    "        return self.out\n",
    "        \n",
    "    def parameters(self):\n",
    "        return []\n",
    "\n",
    "                \n",
    "n_embd = 10\n",
    "n_hidden_layers = 100\n",
    "g = torch.Generator().manual_seeed(21357598)\n",
    "\n",
    "C = torch.randn((vocab, n_embd), generator=g)\n",
    "layers = [\n",
    "    Linear(n_embd * block_size, n_embd, g), Tanh(),\n",
    "    Linear(n_hidden_layers, n_hidden_layers, g), Tanh(),\n",
    "    Linear(n_hidden_layers, n_hidden_layers, g), Tanh(),\n",
    "    Linear(n_hidden_layers, n_hidden_layers, g), Tanh(),\n",
    "    Linear(n_hidden_layers, vocab_size, g),\n",
    "]\n",
    "\n"
   ]
  }
 ],
 "metadata": {
  "kernelspec": {
   "display_name": "Python 3 (ipykernel)",
   "language": "python",
   "name": "python3"
  },
  "language_info": {
   "codemirror_mode": {
    "name": "ipython",
    "version": 3
   },
   "file_extension": ".py",
   "mimetype": "text/x-python",
   "name": "python",
   "nbconvert_exporter": "python",
   "pygments_lexer": "ipython3",
   "version": "3.11.3"
  }
 },
 "nbformat": 4,
 "nbformat_minor": 5
}
