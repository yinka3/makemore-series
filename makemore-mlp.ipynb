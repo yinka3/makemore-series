{
 "cells": [
  {
   "cell_type": "code",
   "execution_count": 70,
   "id": "75678b49-efd0-4384-99ae-81bc16149460",
   "metadata": {},
   "outputs": [],
   "source": [
    "import torch, math\n",
    "words = open(\"names.txt\", \"r\").read().splitlines()\n"
   ]
  },
  {
   "cell_type": "code",
   "execution_count": 71,
   "id": "7a2d6084-63fd-4ade-9647-2685244fc5b0",
   "metadata": {},
   "outputs": [],
   "source": [
    "chars = sorted(list(set(\"\".join(words))))\n",
    "stoi = {s:i + 1 for i, s in enumerate(chars)}\n",
    "stoi[\".\"] = 0\n",
    "itos = {i: s for s, i in stoi.items()}\n"
   ]
  },
  {
   "cell_type": "code",
   "execution_count": 72,
   "id": "0ce4d952-15cf-4ec9-a314-caf318d1fd0f",
   "metadata": {},
   "outputs": [
    {
     "name": "stdout",
     "output_type": "stream",
     "text": [
      "x.shape=torch.Size([156999, 3]), y.shape=torch.Size([156999])\n",
      "x.shape=torch.Size([19452, 3]), y.shape=torch.Size([19452])\n",
      "x.shape=torch.Size([19662, 3]), y.shape=torch.Size([19662])\n"
     ]
    }
   ],
   "source": [
    "# build dataset\n",
    "\n",
    "def build_dataset(words):\n",
    "    block_size = 3\n",
    "    x, y = [], []\n",
    "    for word in words:\n",
    "    \n",
    "        context = [0] * block_size\n",
    "    \n",
    "        for ch in word:\n",
    "            ix = stoi[ch]\n",
    "            x.append(context)\n",
    "            y.append(ix)\n",
    "            context = context[1:] + [ix]\n",
    "    x = torch.tensor(x)\n",
    "    y = torch.tensor(y)\n",
    "    print(f\"{x.shape=}, {y.shape=}\")\n",
    "    return x, y\n",
    "\n",
    "import random\n",
    "random.seed(42)\n",
    "random.shuffle(words)\n",
    "n1 = int(0.8*len(words))\n",
    "n2 = int(0.9*len(words))\n",
    "x_train, y_train = build_dataset(words[:n1])\n",
    "x_dev, y_dev = build_dataset(words[n1:n2])\n",
    "x_test, y_test = build_dataset(words[n2:])"
   ]
  },
  {
   "cell_type": "code",
   "execution_count": 73,
   "id": "570771f7-8781-4d50-8957-5e2ed1efb914",
   "metadata": {},
   "outputs": [],
   "source": [
    "# building network\n",
    "g = torch.Generator().manual_seed(31415926)\n",
    "C = torch.randn((27, 2))\n",
    "W1 = torch.randn((6, 100), generator=g)\n",
    "b1 = torch.randn(100, generator=g)\n",
    "W2 = torch.randn((100, 27), generator=g)\n",
    "b2 = torch.rand(27, generator=g)\n",
    "param = [C, W1, b1, W2, b2]\n",
    "for p in param:\n",
    "    p.requires_grad = True"
   ]
  },
  {
   "cell_type": "code",
   "execution_count": 78,
   "id": "b9fabcd2-1eec-44ee-9186-e8ff24229ba4",
   "metadata": {},
   "outputs": [],
   "source": [
    "#training with training dataset\n",
    "for _ in range(10000):\n",
    "    #forward pass\n",
    "    ix = torch.randint(0, x_train.shape[0], (32, ))\n",
    "    emb = C[x_train[ix]]\n",
    "    h = torch.tanh(emb.view(-1, 6) @ W1 + b1)\n",
    "    logits = h @ W2 + b2\n",
    "    loss = torch.nn.functional.cross_entropy(logits, y_train[ix])\n",
    "    #backward pass\n",
    "    for p in param:\n",
    "        p.grad = None\n",
    "    loss.backward()\n",
    "    lr = 0.1\n",
    "    for p in param:\n",
    "        p.data += -lr * p.grad\n"
   ]
  },
  {
   "cell_type": "code",
   "execution_count": 79,
   "id": "5bd41af3-1f5d-4366-940f-a7e830f74834",
   "metadata": {},
   "outputs": [
    {
     "name": "stdout",
     "output_type": "stream",
     "text": [
      "2.4497101306915283\n"
     ]
    }
   ],
   "source": [
    "print(loss.item())"
   ]
  },
  {
   "cell_type": "code",
   "execution_count": 80,
   "id": "3625d842-bfae-4bb7-b265-21adccf2dd81",
   "metadata": {},
   "outputs": [
    {
     "data": {
      "text/plain": [
       "tensor(2.4646, grad_fn=<NllLossBackward0>)"
      ]
     },
     "execution_count": 80,
     "metadata": {},
     "output_type": "execute_result"
    }
   ],
   "source": [
    "#evaluation with dev dataset\n",
    "emb = C[x_dev]\n",
    "h = torch.tanh(emb.view(-1, 6) @ W1 + b1)\n",
    "logits = h @ W2 + b2\n",
    "loss = torch.nn.functional.cross_entropy(logits, y_dev)\n",
    "loss"
   ]
  },
  {
   "cell_type": "code",
   "execution_count": null,
   "id": "ce4c2830-b0d1-487e-9986-cbc26af8294f",
   "metadata": {},
   "outputs": [],
   "source": []
  }
 ],
 "metadata": {
  "kernelspec": {
   "display_name": "Python 3 (ipykernel)",
   "language": "python",
   "name": "python3"
  },
  "language_info": {
   "codemirror_mode": {
    "name": "ipython",
    "version": 3
   },
   "file_extension": ".py",
   "mimetype": "text/x-python",
   "name": "python",
   "nbconvert_exporter": "python",
   "pygments_lexer": "ipython3",
   "version": "3.10.12"
  }
 },
 "nbformat": 4,
 "nbformat_minor": 5
}
